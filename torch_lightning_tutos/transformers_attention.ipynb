{
 "cells": [
  {
   "cell_type": "markdown",
   "id": "d193107f-c938-4b64-a71c-d34baf776213",
   "metadata": {},
   "source": [
    "## Transformers and Multi-Head Attention"
   ]
  },
  {
   "cell_type": "code",
   "execution_count": null,
   "id": "b6d43586-5954-4d53-9b30-9c2f502ef84d",
   "metadata": {},
   "outputs": [],
   "source": []
  }
 ],
 "metadata": {
  "kernelspec": {
   "display_name": "nlp:Python",
   "language": "python",
   "name": "conda-env-nlp-py"
  },
  "language_info": {
   "codemirror_mode": {
    "name": "ipython",
    "version": 3
   },
   "file_extension": ".py",
   "mimetype": "text/x-python",
   "name": "python",
   "nbconvert_exporter": "python",
   "pygments_lexer": "ipython3",
   "version": "3.11.4"
  }
 },
 "nbformat": 4,
 "nbformat_minor": 5
}
